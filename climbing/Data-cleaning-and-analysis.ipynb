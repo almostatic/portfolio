{
 "cells": [
  {
   "cell_type": "markdown",
   "metadata": {},
   "source": [
    "In this notebook we inspect the moonboard database and clean the data ready for the machine learning.  First we import some libraries and load the dataframe.\n",
    "\n",
    "## Importing and cleaning the data"
   ]
  },
  {
   "cell_type": "code",
   "execution_count": 1,
   "metadata": {},
   "outputs": [],
   "source": [
    "import pandas as pd\n",
    "import numpy as np\n",
    "import seaborn as sns\n",
    "import matplotlib.pyplot as plt\n",
    "import matplotlib.image as mpimg\n",
    "import re\n",
    "\n",
    "# Set some default plotting params\n",
    "%matplotlib inline\n",
    "sns.set(style=\"white\")\n",
    "plt.style.use('seaborn-white')\n",
    "plt.rcParams[\"image.origin\"] = 'lower'\n",
    "plt.rcParams['figure.figsize'] = (10.0, 8.0)\n",
    "\n",
    "path_pickle = 'data/database.zip'\n",
    "df = pd.read_pickle(path_pickle)"
   ]
  },
  {
   "cell_type": "markdown",
   "metadata": {},
   "source": [
    "Let's first inspect the data and see what we have here."
   ]
  },
  {
   "cell_type": "code",
   "execution_count": 2,
   "metadata": {},
   "outputs": [
    {
     "data": {
      "text/html": [
       "<div>\n",
       "<style scoped>\n",
       "    .dataframe tbody tr th:only-of-type {\n",
       "        vertical-align: middle;\n",
       "    }\n",
       "\n",
       "    .dataframe tbody tr th {\n",
       "        vertical-align: top;\n",
       "    }\n",
       "\n",
       "    .dataframe thead th {\n",
       "        text-align: right;\n",
       "    }\n",
       "</style>\n",
       "<table border=\"1\" class=\"dataframe\">\n",
       "  <thead>\n",
       "    <tr style=\"text-align: right;\">\n",
       "      <th></th>\n",
       "      <th>ApiId</th>\n",
       "      <th>Attempts</th>\n",
       "      <th>DateDeleted</th>\n",
       "      <th>DateInserted</th>\n",
       "      <th>DateTimeString</th>\n",
       "      <th>DateUpdated</th>\n",
       "      <th>FirstAscender</th>\n",
       "      <th>Grade</th>\n",
       "      <th>Holdsets</th>\n",
       "      <th>Holdsetup</th>\n",
       "      <th>...</th>\n",
       "      <th>Name</th>\n",
       "      <th>NameForUrl</th>\n",
       "      <th>NumberOfTries</th>\n",
       "      <th>ProblemType</th>\n",
       "      <th>Rating</th>\n",
       "      <th>RepeatText</th>\n",
       "      <th>Repeats</th>\n",
       "      <th>Setter</th>\n",
       "      <th>UserGrade</th>\n",
       "      <th>UserRating</th>\n",
       "    </tr>\n",
       "  </thead>\n",
       "  <tbody>\n",
       "    <tr>\n",
       "      <th>0</th>\n",
       "      <td>0</td>\n",
       "      <td>0</td>\n",
       "      <td>None</td>\n",
       "      <td>/Date(1542102209893)/</td>\n",
       "      <td>13 Nov 2018 09:43</td>\n",
       "      <td>None</td>\n",
       "      <td>False</td>\n",
       "      <td>6C</td>\n",
       "      <td>None</td>\n",
       "      <td>{'Id': 15, 'Description': 'MoonBoard Masters 2...</td>\n",
       "      <td>...</td>\n",
       "      <td>WOODEN CENTERPEICE</td>\n",
       "      <td>wooden-centerpeice</td>\n",
       "      <td>None</td>\n",
       "      <td>None</td>\n",
       "      <td>0</td>\n",
       "      <td>Be the first to repeat this problem</td>\n",
       "      <td>0</td>\n",
       "      <td>{'Id': '9384ECB7-94E4-4B83-AF0D-EE91EE11AB55',...</td>\n",
       "      <td>None</td>\n",
       "      <td>0</td>\n",
       "    </tr>\n",
       "    <tr>\n",
       "      <th>1</th>\n",
       "      <td>0</td>\n",
       "      <td>0</td>\n",
       "      <td>None</td>\n",
       "      <td>/Date(1542101683707)/</td>\n",
       "      <td>13 Nov 2018 09:34</td>\n",
       "      <td>None</td>\n",
       "      <td>False</td>\n",
       "      <td>7A+</td>\n",
       "      <td>None</td>\n",
       "      <td>{'Id': 15, 'Description': 'MoonBoard Masters 2...</td>\n",
       "      <td>...</td>\n",
       "      <td>MUSE IN KOALA</td>\n",
       "      <td>muse-in-koala</td>\n",
       "      <td>None</td>\n",
       "      <td>None</td>\n",
       "      <td>0</td>\n",
       "      <td>1 climber  has repeated this problem</td>\n",
       "      <td>1</td>\n",
       "      <td>{'Id': '9384ECB7-94E4-4B83-AF0D-EE91EE11AB55',...</td>\n",
       "      <td>None</td>\n",
       "      <td>3</td>\n",
       "    </tr>\n",
       "    <tr>\n",
       "      <th>2</th>\n",
       "      <td>0</td>\n",
       "      <td>0</td>\n",
       "      <td>None</td>\n",
       "      <td>/Date(1542101635793)/</td>\n",
       "      <td>13 Nov 2018 09:33</td>\n",
       "      <td>None</td>\n",
       "      <td>False</td>\n",
       "      <td>6B+</td>\n",
       "      <td>None</td>\n",
       "      <td>{'Id': 15, 'Description': 'MoonBoard Masters 2...</td>\n",
       "      <td>...</td>\n",
       "      <td>ORIGINAL TASTE</td>\n",
       "      <td>original-taste</td>\n",
       "      <td>None</td>\n",
       "      <td>None</td>\n",
       "      <td>0</td>\n",
       "      <td>1 climber  has repeated this problem</td>\n",
       "      <td>1</td>\n",
       "      <td>{'Id': '9384ECB7-94E4-4B83-AF0D-EE91EE11AB55',...</td>\n",
       "      <td>None</td>\n",
       "      <td>3</td>\n",
       "    </tr>\n",
       "    <tr>\n",
       "      <th>3</th>\n",
       "      <td>0</td>\n",
       "      <td>0</td>\n",
       "      <td>None</td>\n",
       "      <td>/Date(1542094956373)/</td>\n",
       "      <td>13 Nov 2018 07:42</td>\n",
       "      <td>None</td>\n",
       "      <td>False</td>\n",
       "      <td>6A+</td>\n",
       "      <td>None</td>\n",
       "      <td>{'Id': 15, 'Description': 'MoonBoard Masters 2...</td>\n",
       "      <td>...</td>\n",
       "      <td>SOFT SERVE</td>\n",
       "      <td>soft-serve</td>\n",
       "      <td>None</td>\n",
       "      <td>None</td>\n",
       "      <td>0</td>\n",
       "      <td>Be the first to repeat this problem</td>\n",
       "      <td>0</td>\n",
       "      <td>{'Id': '33a82150-f883-4f46-a3a7-da776da718dd',...</td>\n",
       "      <td>None</td>\n",
       "      <td>0</td>\n",
       "    </tr>\n",
       "    <tr>\n",
       "      <th>4</th>\n",
       "      <td>0</td>\n",
       "      <td>0</td>\n",
       "      <td>None</td>\n",
       "      <td>/Date(1542077121190)/</td>\n",
       "      <td>13 Nov 2018 02:45</td>\n",
       "      <td>None</td>\n",
       "      <td>False</td>\n",
       "      <td>7B+</td>\n",
       "      <td>None</td>\n",
       "      <td>{'Id': 15, 'Description': 'MoonBoard Masters 2...</td>\n",
       "      <td>...</td>\n",
       "      <td>DOBRA</td>\n",
       "      <td>dobra</td>\n",
       "      <td>None</td>\n",
       "      <td>None</td>\n",
       "      <td>0</td>\n",
       "      <td>Be the first to repeat this problem</td>\n",
       "      <td>0</td>\n",
       "      <td>{'Id': 'B0794F91-269D-4C5A-8113-366D005A97DD',...</td>\n",
       "      <td>None</td>\n",
       "      <td>0</td>\n",
       "    </tr>\n",
       "  </tbody>\n",
       "</table>\n",
       "<p>5 rows × 28 columns</p>\n",
       "</div>"
      ],
      "text/plain": [
       "   ApiId  Attempts DateDeleted           DateInserted     DateTimeString  \\\n",
       "0      0         0        None  /Date(1542102209893)/  13 Nov 2018 09:43   \n",
       "1      0         0        None  /Date(1542101683707)/  13 Nov 2018 09:34   \n",
       "2      0         0        None  /Date(1542101635793)/  13 Nov 2018 09:33   \n",
       "3      0         0        None  /Date(1542094956373)/  13 Nov 2018 07:42   \n",
       "4      0         0        None  /Date(1542077121190)/  13 Nov 2018 02:45   \n",
       "\n",
       "  DateUpdated  FirstAscender Grade Holdsets  \\\n",
       "0        None          False    6C     None   \n",
       "1        None          False   7A+     None   \n",
       "2        None          False   6B+     None   \n",
       "3        None          False   6A+     None   \n",
       "4        None          False   7B+     None   \n",
       "\n",
       "                                           Holdsetup    ...      \\\n",
       "0  {'Id': 15, 'Description': 'MoonBoard Masters 2...    ...       \n",
       "1  {'Id': 15, 'Description': 'MoonBoard Masters 2...    ...       \n",
       "2  {'Id': 15, 'Description': 'MoonBoard Masters 2...    ...       \n",
       "3  {'Id': 15, 'Description': 'MoonBoard Masters 2...    ...       \n",
       "4  {'Id': 15, 'Description': 'MoonBoard Masters 2...    ...       \n",
       "\n",
       "                 Name          NameForUrl  NumberOfTries ProblemType Rating  \\\n",
       "0  WOODEN CENTERPEICE  wooden-centerpeice           None        None      0   \n",
       "1       MUSE IN KOALA       muse-in-koala           None        None      0   \n",
       "2      ORIGINAL TASTE      original-taste           None        None      0   \n",
       "3          SOFT SERVE          soft-serve           None        None      0   \n",
       "4               DOBRA               dobra           None        None      0   \n",
       "\n",
       "                             RepeatText  Repeats  \\\n",
       "0   Be the first to repeat this problem        0   \n",
       "1  1 climber  has repeated this problem        1   \n",
       "2  1 climber  has repeated this problem        1   \n",
       "3   Be the first to repeat this problem        0   \n",
       "4   Be the first to repeat this problem        0   \n",
       "\n",
       "                                              Setter UserGrade UserRating  \n",
       "0  {'Id': '9384ECB7-94E4-4B83-AF0D-EE91EE11AB55',...      None          0  \n",
       "1  {'Id': '9384ECB7-94E4-4B83-AF0D-EE91EE11AB55',...      None          3  \n",
       "2  {'Id': '9384ECB7-94E4-4B83-AF0D-EE91EE11AB55',...      None          3  \n",
       "3  {'Id': '33a82150-f883-4f46-a3a7-da776da718dd',...      None          0  \n",
       "4  {'Id': 'B0794F91-269D-4C5A-8113-366D005A97DD',...      None          0  \n",
       "\n",
       "[5 rows x 28 columns]"
      ]
     },
     "execution_count": 2,
     "metadata": {},
     "output_type": "execute_result"
    }
   ],
   "source": [
    "df.head()"
   ]
  },
  {
   "cell_type": "code",
   "execution_count": 3,
   "metadata": {},
   "outputs": [
    {
     "name": "stdout",
     "output_type": "stream",
     "text": [
      "<class 'pandas.core.frame.DataFrame'>\n",
      "RangeIndex: 13570 entries, 0 to 13569\n",
      "Data columns (total 28 columns):\n",
      "ApiId                       13570 non-null int64\n",
      "Attempts                    13570 non-null int64\n",
      "DateDeleted                 0 non-null object\n",
      "DateInserted                13570 non-null object\n",
      "DateTimeString              13570 non-null object\n",
      "DateUpdated                 0 non-null object\n",
      "FirstAscender               13570 non-null bool\n",
      "Grade                       13570 non-null object\n",
      "Holdsets                    0 non-null object\n",
      "Holdsetup                   13570 non-null object\n",
      "Id                          13570 non-null int64\n",
      "IsAssessmentProblem         13570 non-null bool\n",
      "IsBenchmark                 13570 non-null bool\n",
      "Locations                   13570 non-null object\n",
      "Method                      13570 non-null object\n",
      "MoonBoardConfiguration      13570 non-null object\n",
      "MoonBoardConfigurationId    13570 non-null int64\n",
      "Moves                       13570 non-null object\n",
      "Name                        13570 non-null object\n",
      "NameForUrl                  13570 non-null object\n",
      "NumberOfTries               0 non-null object\n",
      "ProblemType                 38 non-null object\n",
      "Rating                      13570 non-null int64\n",
      "RepeatText                  13570 non-null object\n",
      "Repeats                     13570 non-null int64\n",
      "Setter                      13570 non-null object\n",
      "UserGrade                   4541 non-null object\n",
      "UserRating                  13570 non-null int64\n",
      "dtypes: bool(3), int64(7), object(18)\n",
      "memory usage: 2.6+ MB\n"
     ]
    }
   ],
   "source": [
    "df.info()"
   ]
  },
  {
   "cell_type": "markdown",
   "metadata": {},
   "source": [
    "Let's drop the columns that we aren't interested in.  What we are interested in are the holds/how the moon board is configured, the grade (from the setter and users) and any other interesting bits of data that might be useful later on - such as if it's been repeated or if you are allowed to use holds for your feet or not.  Some columns such as `Holdsets` contain no data."
   ]
  },
  {
   "cell_type": "code",
   "execution_count": 4,
   "metadata": {},
   "outputs": [
    {
     "name": "stdout",
     "output_type": "stream",
     "text": [
      "<class 'pandas.core.frame.DataFrame'>\n",
      "RangeIndex: 13570 entries, 0 to 13569\n",
      "Data columns (total 8 columns):\n",
      "Grade                     13570 non-null object\n",
      "Method                    13570 non-null object\n",
      "MoonBoardConfiguration    13570 non-null object\n",
      "Name                      13570 non-null object\n",
      "Moves                     13570 non-null object\n",
      "Repeats                   13570 non-null int64\n",
      "UserGrade                 4541 non-null object\n",
      "UserRating                13570 non-null int64\n",
      "dtypes: int64(2), object(6)\n",
      "memory usage: 848.2+ KB\n"
     ]
    },
    {
     "data": {
      "text/html": [
       "<div>\n",
       "<style scoped>\n",
       "    .dataframe tbody tr th:only-of-type {\n",
       "        vertical-align: middle;\n",
       "    }\n",
       "\n",
       "    .dataframe tbody tr th {\n",
       "        vertical-align: top;\n",
       "    }\n",
       "\n",
       "    .dataframe thead th {\n",
       "        text-align: right;\n",
       "    }\n",
       "</style>\n",
       "<table border=\"1\" class=\"dataframe\">\n",
       "  <thead>\n",
       "    <tr style=\"text-align: right;\">\n",
       "      <th></th>\n",
       "      <th>Grade</th>\n",
       "      <th>Method</th>\n",
       "      <th>MoonBoardConfiguration</th>\n",
       "      <th>Name</th>\n",
       "      <th>Moves</th>\n",
       "      <th>Repeats</th>\n",
       "      <th>UserGrade</th>\n",
       "      <th>UserRating</th>\n",
       "    </tr>\n",
       "  </thead>\n",
       "  <tbody>\n",
       "    <tr>\n",
       "      <th>0</th>\n",
       "      <td>6C</td>\n",
       "      <td>Feet follow hands</td>\n",
       "      <td>{'Id': 1, 'Description': '40° MoonBoard', 'Low...</td>\n",
       "      <td>WOODEN CENTERPEICE</td>\n",
       "      <td>[{'Id': 1820187, 'Description': 'C5', 'IsStart...</td>\n",
       "      <td>0</td>\n",
       "      <td>None</td>\n",
       "      <td>0</td>\n",
       "    </tr>\n",
       "    <tr>\n",
       "      <th>1</th>\n",
       "      <td>7A+</td>\n",
       "      <td>Feet follow hands</td>\n",
       "      <td>{'Id': 1, 'Description': '40° MoonBoard', 'Low...</td>\n",
       "      <td>MUSE IN KOALA</td>\n",
       "      <td>[{'Id': 1820182, 'Description': 'H5', 'IsStart...</td>\n",
       "      <td>1</td>\n",
       "      <td>None</td>\n",
       "      <td>3</td>\n",
       "    </tr>\n",
       "    <tr>\n",
       "      <th>2</th>\n",
       "      <td>6B+</td>\n",
       "      <td>Feet follow hands</td>\n",
       "      <td>{'Id': 1, 'Description': '40° MoonBoard', 'Low...</td>\n",
       "      <td>ORIGINAL TASTE</td>\n",
       "      <td>[{'Id': 1820175, 'Description': 'I3', 'IsStart...</td>\n",
       "      <td>1</td>\n",
       "      <td>None</td>\n",
       "      <td>3</td>\n",
       "    </tr>\n",
       "    <tr>\n",
       "      <th>3</th>\n",
       "      <td>6A+</td>\n",
       "      <td>Feet follow hands + screw ons</td>\n",
       "      <td>{'Id': 1, 'Description': '40° MoonBoard', 'Low...</td>\n",
       "      <td>SOFT SERVE</td>\n",
       "      <td>[{'Id': 1820161, 'Description': 'F5', 'IsStart...</td>\n",
       "      <td>0</td>\n",
       "      <td>None</td>\n",
       "      <td>0</td>\n",
       "    </tr>\n",
       "    <tr>\n",
       "      <th>4</th>\n",
       "      <td>7B+</td>\n",
       "      <td>Footless + kickboard</td>\n",
       "      <td>{'Id': 1, 'Description': '40° MoonBoard', 'Low...</td>\n",
       "      <td>DOBRA</td>\n",
       "      <td>[{'Id': 1820081, 'Description': 'G5', 'IsStart...</td>\n",
       "      <td>0</td>\n",
       "      <td>None</td>\n",
       "      <td>0</td>\n",
       "    </tr>\n",
       "  </tbody>\n",
       "</table>\n",
       "</div>"
      ],
      "text/plain": [
       "  Grade                         Method  \\\n",
       "0    6C              Feet follow hands   \n",
       "1   7A+              Feet follow hands   \n",
       "2   6B+              Feet follow hands   \n",
       "3   6A+  Feet follow hands + screw ons   \n",
       "4   7B+           Footless + kickboard   \n",
       "\n",
       "                              MoonBoardConfiguration                Name  \\\n",
       "0  {'Id': 1, 'Description': '40° MoonBoard', 'Low...  WOODEN CENTERPEICE   \n",
       "1  {'Id': 1, 'Description': '40° MoonBoard', 'Low...       MUSE IN KOALA   \n",
       "2  {'Id': 1, 'Description': '40° MoonBoard', 'Low...      ORIGINAL TASTE   \n",
       "3  {'Id': 1, 'Description': '40° MoonBoard', 'Low...          SOFT SERVE   \n",
       "4  {'Id': 1, 'Description': '40° MoonBoard', 'Low...               DOBRA   \n",
       "\n",
       "                                               Moves  Repeats UserGrade  \\\n",
       "0  [{'Id': 1820187, 'Description': 'C5', 'IsStart...        0      None   \n",
       "1  [{'Id': 1820182, 'Description': 'H5', 'IsStart...        1      None   \n",
       "2  [{'Id': 1820175, 'Description': 'I3', 'IsStart...        1      None   \n",
       "3  [{'Id': 1820161, 'Description': 'F5', 'IsStart...        0      None   \n",
       "4  [{'Id': 1820081, 'Description': 'G5', 'IsStart...        0      None   \n",
       "\n",
       "   UserRating  \n",
       "0           0  \n",
       "1           3  \n",
       "2           3  \n",
       "3           0  \n",
       "4           0  "
      ]
     },
     "execution_count": 4,
     "metadata": {},
     "output_type": "execute_result"
    }
   ],
   "source": [
    "# create a list of the columns to keep\n",
    "keep_list = ['Grade', 'Method', 'MoonBoardConfiguration', 'Name',\n",
    "             'Moves', 'Repeats', 'UserGrade', 'UserRating']\n",
    "df = df[keep_list]\n",
    "\n",
    "# try to infer some better dtypes for the columns\n",
    "df.infer_objects()\n",
    "\n",
    "df.info()\n",
    "df.head()"
   ]
  },
  {
   "cell_type": "markdown",
   "metadata": {},
   "source": [
    "There are a couple of different configurations to the moon board but we will only keep the most popular one (where it's at a 40° overhang).  There are are a couple of different possibilities for footholds but again we'll only keep the most popular."
   ]
  },
  {
   "cell_type": "code",
   "execution_count": 5,
   "metadata": {},
   "outputs": [
    {
     "name": "stdout",
     "output_type": "stream",
     "text": [
      "<class 'pandas.core.frame.DataFrame'>\n",
      "Int64Index: 10983 entries, 0 to 13569\n",
      "Data columns (total 6 columns):\n",
      "Grade         10983 non-null object\n",
      "Name          10983 non-null object\n",
      "Moves         10983 non-null object\n",
      "Repeats       10983 non-null int64\n",
      "UserGrade     3674 non-null object\n",
      "UserRating    10983 non-null int64\n",
      "dtypes: int64(2), object(4)\n",
      "memory usage: 600.6+ KB\n"
     ]
    }
   ],
   "source": [
    "# Replace MoonBoardConfiguration column by Id in it's dictionary and then only keep Id == 1.\n",
    "# This means that we're only keeping the 40° MoonBoard (the most popular one)\n",
    "df['MoonBoardConfiguration'] = df['MoonBoardConfiguration'].apply(\n",
    "    lambda d: d['Id'])\n",
    "df = df[(df['MoonBoardConfiguration'] == 1) &\n",
    "        (df['Method'] == 'Feet follow hands')]\n",
    "df = df.drop(columns=['MoonBoardConfiguration', 'Method'])\n",
    "df.info()"
   ]
  },
  {
   "cell_type": "code",
   "execution_count": 6,
   "metadata": {},
   "outputs": [
    {
     "data": {
      "text/html": [
       "<div>\n",
       "<style scoped>\n",
       "    .dataframe tbody tr th:only-of-type {\n",
       "        vertical-align: middle;\n",
       "    }\n",
       "\n",
       "    .dataframe tbody tr th {\n",
       "        vertical-align: top;\n",
       "    }\n",
       "\n",
       "    .dataframe thead th {\n",
       "        text-align: right;\n",
       "    }\n",
       "</style>\n",
       "<table border=\"1\" class=\"dataframe\">\n",
       "  <thead>\n",
       "    <tr style=\"text-align: right;\">\n",
       "      <th></th>\n",
       "      <th>Grade</th>\n",
       "      <th>Name</th>\n",
       "      <th>Moves</th>\n",
       "      <th>Repeats</th>\n",
       "      <th>UserGrade</th>\n",
       "      <th>UserRating</th>\n",
       "    </tr>\n",
       "  </thead>\n",
       "  <tbody>\n",
       "    <tr>\n",
       "      <th>0</th>\n",
       "      <td>6C</td>\n",
       "      <td>WOODEN CENTERPEICE</td>\n",
       "      <td>[{'Id': 1820187, 'Description': 'C5', 'IsStart...</td>\n",
       "      <td>0</td>\n",
       "      <td>None</td>\n",
       "      <td>0</td>\n",
       "    </tr>\n",
       "    <tr>\n",
       "      <th>1</th>\n",
       "      <td>7A+</td>\n",
       "      <td>MUSE IN KOALA</td>\n",
       "      <td>[{'Id': 1820182, 'Description': 'H5', 'IsStart...</td>\n",
       "      <td>1</td>\n",
       "      <td>None</td>\n",
       "      <td>3</td>\n",
       "    </tr>\n",
       "    <tr>\n",
       "      <th>2</th>\n",
       "      <td>6B+</td>\n",
       "      <td>ORIGINAL TASTE</td>\n",
       "      <td>[{'Id': 1820175, 'Description': 'I3', 'IsStart...</td>\n",
       "      <td>1</td>\n",
       "      <td>None</td>\n",
       "      <td>3</td>\n",
       "    </tr>\n",
       "    <tr>\n",
       "      <th>5</th>\n",
       "      <td>6B+</td>\n",
       "      <td>JASON ADAMS</td>\n",
       "      <td>[{'Id': 1820074, 'Description': 'D5', 'IsStart...</td>\n",
       "      <td>0</td>\n",
       "      <td>None</td>\n",
       "      <td>0</td>\n",
       "    </tr>\n",
       "    <tr>\n",
       "      <th>6</th>\n",
       "      <td>6C+</td>\n",
       "      <td>PUNK SNUGGLE</td>\n",
       "      <td>[{'Id': 1820066, 'Description': 'G8', 'IsStart...</td>\n",
       "      <td>0</td>\n",
       "      <td>None</td>\n",
       "      <td>0</td>\n",
       "    </tr>\n",
       "  </tbody>\n",
       "</table>\n",
       "</div>"
      ],
      "text/plain": [
       "  Grade                Name  \\\n",
       "0    6C  WOODEN CENTERPEICE   \n",
       "1   7A+       MUSE IN KOALA   \n",
       "2   6B+      ORIGINAL TASTE   \n",
       "5   6B+         JASON ADAMS   \n",
       "6   6C+        PUNK SNUGGLE   \n",
       "\n",
       "                                               Moves  Repeats UserGrade  \\\n",
       "0  [{'Id': 1820187, 'Description': 'C5', 'IsStart...        0      None   \n",
       "1  [{'Id': 1820182, 'Description': 'H5', 'IsStart...        1      None   \n",
       "2  [{'Id': 1820175, 'Description': 'I3', 'IsStart...        1      None   \n",
       "5  [{'Id': 1820074, 'Description': 'D5', 'IsStart...        0      None   \n",
       "6  [{'Id': 1820066, 'Description': 'G8', 'IsStart...        0      None   \n",
       "\n",
       "   UserRating  \n",
       "0           0  \n",
       "1           3  \n",
       "2           3  \n",
       "5           0  \n",
       "6           0  "
      ]
     },
     "execution_count": 6,
     "metadata": {},
     "output_type": "execute_result"
    }
   ],
   "source": [
    "df.head()"
   ]
  },
  {
   "cell_type": "markdown",
   "metadata": {},
   "source": [
    "We now have the two main bits of data that we need to clean and move into the correct format: the grade and the holds used.  For the grade we will convert the font grade (a climbing grade) to a numerical grade with 1 being the easiest.  The font grading system first has a number grade which is then subdivided into 3 letters (A, B, C) and then further subdivided with either have a `+` or not."
   ]
  },
  {
   "cell_type": "code",
   "execution_count": 7,
   "metadata": {},
   "outputs": [
    {
     "data": {
      "text/html": [
       "<div>\n",
       "<style scoped>\n",
       "    .dataframe tbody tr th:only-of-type {\n",
       "        vertical-align: middle;\n",
       "    }\n",
       "\n",
       "    .dataframe tbody tr th {\n",
       "        vertical-align: top;\n",
       "    }\n",
       "\n",
       "    .dataframe thead th {\n",
       "        text-align: right;\n",
       "    }\n",
       "</style>\n",
       "<table border=\"1\" class=\"dataframe\">\n",
       "  <thead>\n",
       "    <tr style=\"text-align: right;\">\n",
       "      <th></th>\n",
       "      <th>Grade</th>\n",
       "      <th>Name</th>\n",
       "      <th>Moves</th>\n",
       "      <th>Repeats</th>\n",
       "      <th>UserGrade</th>\n",
       "      <th>UserRating</th>\n",
       "      <th>Grade_num</th>\n",
       "      <th>UserGrade_num</th>\n",
       "    </tr>\n",
       "  </thead>\n",
       "  <tbody>\n",
       "    <tr>\n",
       "      <th>0</th>\n",
       "      <td>6C</td>\n",
       "      <td>WOODEN CENTERPEICE</td>\n",
       "      <td>[{'Id': 1820187, 'Description': 'C5', 'IsStart...</td>\n",
       "      <td>0</td>\n",
       "      <td>None</td>\n",
       "      <td>0</td>\n",
       "      <td>3</td>\n",
       "      <td>NaN</td>\n",
       "    </tr>\n",
       "    <tr>\n",
       "      <th>1</th>\n",
       "      <td>7A+</td>\n",
       "      <td>MUSE IN KOALA</td>\n",
       "      <td>[{'Id': 1820182, 'Description': 'H5', 'IsStart...</td>\n",
       "      <td>1</td>\n",
       "      <td>None</td>\n",
       "      <td>3</td>\n",
       "      <td>6</td>\n",
       "      <td>NaN</td>\n",
       "    </tr>\n",
       "    <tr>\n",
       "      <th>2</th>\n",
       "      <td>6B+</td>\n",
       "      <td>ORIGINAL TASTE</td>\n",
       "      <td>[{'Id': 1820175, 'Description': 'I3', 'IsStart...</td>\n",
       "      <td>1</td>\n",
       "      <td>None</td>\n",
       "      <td>3</td>\n",
       "      <td>2</td>\n",
       "      <td>NaN</td>\n",
       "    </tr>\n",
       "    <tr>\n",
       "      <th>5</th>\n",
       "      <td>6B+</td>\n",
       "      <td>JASON ADAMS</td>\n",
       "      <td>[{'Id': 1820074, 'Description': 'D5', 'IsStart...</td>\n",
       "      <td>0</td>\n",
       "      <td>None</td>\n",
       "      <td>0</td>\n",
       "      <td>2</td>\n",
       "      <td>NaN</td>\n",
       "    </tr>\n",
       "    <tr>\n",
       "      <th>6</th>\n",
       "      <td>6C+</td>\n",
       "      <td>PUNK SNUGGLE</td>\n",
       "      <td>[{'Id': 1820066, 'Description': 'G8', 'IsStart...</td>\n",
       "      <td>0</td>\n",
       "      <td>None</td>\n",
       "      <td>0</td>\n",
       "      <td>4</td>\n",
       "      <td>NaN</td>\n",
       "    </tr>\n",
       "  </tbody>\n",
       "</table>\n",
       "</div>"
      ],
      "text/plain": [
       "  Grade                Name  \\\n",
       "0    6C  WOODEN CENTERPEICE   \n",
       "1   7A+       MUSE IN KOALA   \n",
       "2   6B+      ORIGINAL TASTE   \n",
       "5   6B+         JASON ADAMS   \n",
       "6   6C+        PUNK SNUGGLE   \n",
       "\n",
       "                                               Moves  Repeats UserGrade  \\\n",
       "0  [{'Id': 1820187, 'Description': 'C5', 'IsStart...        0      None   \n",
       "1  [{'Id': 1820182, 'Description': 'H5', 'IsStart...        1      None   \n",
       "2  [{'Id': 1820175, 'Description': 'I3', 'IsStart...        1      None   \n",
       "5  [{'Id': 1820074, 'Description': 'D5', 'IsStart...        0      None   \n",
       "6  [{'Id': 1820066, 'Description': 'G8', 'IsStart...        0      None   \n",
       "\n",
       "   UserRating  Grade_num  UserGrade_num  \n",
       "0           0          3            NaN  \n",
       "1           3          6            NaN  \n",
       "2           3          2            NaN  \n",
       "5           0          2            NaN  \n",
       "6           0          4            NaN  "
      ]
     },
     "execution_count": 7,
     "metadata": {},
     "output_type": "execute_result"
    }
   ],
   "source": [
    "# First make a list of the grades (removing the Nones from the 'UserGrade' col)\n",
    "grade_list_user = df['UserGrade'].dropna().unique()\n",
    "grade_list = np.union1d(df['Grade'].unique(), grade_list_user)\n",
    "grade_dict = dict((k, v) for v, k in enumerate(grade_list))\n",
    "# Keep the Nones as Nones for the UserGrade\n",
    "grade_dict['None'] = None\n",
    "\n",
    "df['Grade_num'] = df['Grade'].apply(lambda x: grade_dict[x])\n",
    "df['UserGrade_num'] = df['UserGrade'].apply(lambda x: grade_dict[str(x)])\n",
    "df.head()"
   ]
  },
  {
   "cell_type": "markdown",
   "metadata": {},
   "source": [
    "Now we come to wrangling the `Moves` column.  This column should specify an ordered list of the climbing holds to be used for each route, including which holds to start and finish one.  Furthermore, it also gives the order in which the holds should be used.  For the majority of problems this order shouldn't matter so for simplicity we will ignore the order.  We will see later that this means we can interpret the holds to be used as a picture and use a CNN (convolution neutral network) to classify routes (pictures) according to their grades.  If we included the ordering then it would be best to use a RNN (recurrent neural network), namely a Long short-term memory (LSTM), instead.  We will leave this as further work which may give better classification accuracy.\n",
    "\n",
    "We shall convert the `Moves` into a 3-dim array with the two dimension indicating the holds on the board (an 18 x 11 grid) and the 3rd dimension indicating if the hold used is a starting hold, finishing hold or just a hold used in the middle of the sequence.  The 3rd dimension will be ordered (is_middle, is_start, is_end).\n",
    "\n",
    "An example the move `{'Id': 1811895, 'Description': 'C10', 'IsStart': True, 'IsEnd': False}` implies `moves_array[3, 10, 1] = 1`"
   ]
  },
  {
   "cell_type": "code",
   "execution_count": 8,
   "metadata": {},
   "outputs": [
    {
     "data": {
      "text/plain": [
       "[{'Id': 1820187, 'Description': 'C5', 'IsStart': True, 'IsEnd': False},\n",
       " {'Id': 1820188, 'Description': 'F6', 'IsStart': True, 'IsEnd': False},\n",
       " {'Id': 1820189, 'Description': 'D9', 'IsStart': False, 'IsEnd': False},\n",
       " {'Id': 1820190, 'Description': 'G12', 'IsStart': False, 'IsEnd': False},\n",
       " {'Id': 1820191, 'Description': 'C14', 'IsStart': False, 'IsEnd': False},\n",
       " {'Id': 1820192, 'Description': 'C16', 'IsStart': False, 'IsEnd': False},\n",
       " {'Id': 1820193, 'Description': 'A18', 'IsStart': False, 'IsEnd': True}]"
      ]
     },
     "execution_count": 8,
     "metadata": {},
     "output_type": "execute_result"
    }
   ],
   "source": [
    "df.Moves.iloc[0]"
   ]
  },
  {
   "cell_type": "code",
   "execution_count": 9,
   "metadata": {},
   "outputs": [],
   "source": [
    "def move_coordinate(d):\n",
    "    # convert a move to the coorindates of the hold on the board\n",
    "    s_split = re.split('(\\d+)', d['Description'], maxsplit=1)\n",
    "    # extra `-1` in both for 0 indexing\n",
    "    w = ord(s_split[0].upper()) - 64 - 1\n",
    "    h = int(s_split[1]) - 1\n",
    "    if d['IsStart'] == True:\n",
    "        z = 1\n",
    "    elif d['IsEnd'] == True:\n",
    "        z = 2\n",
    "    else:\n",
    "        z = 0\n",
    "    return (h, w, z)\n",
    "\n",
    "\n",
    "def convert_moves(moves):\n",
    "    array = np.zeros((18, 11, 3))\n",
    "    for move in moves:\n",
    "        array[move_coordinate(move)] = 1\n",
    "    return array\n",
    "\n",
    "\n",
    "df['Moves_array'] = df['Moves'].apply(convert_moves)"
   ]
  },
  {
   "cell_type": "code",
   "execution_count": 10,
   "metadata": {},
   "outputs": [
    {
     "data": {
      "text/plain": [
       "array([[0., 0., 0., 0., 0., 0., 0., 0., 0., 0., 0.],\n",
       "       [0., 0., 0., 0., 0., 0., 0., 0., 0., 0., 0.],\n",
       "       [0., 0., 0., 0., 0., 0., 0., 0., 0., 0., 0.],\n",
       "       [0., 0., 0., 0., 0., 0., 0., 0., 0., 0., 0.],\n",
       "       [0., 0., 0., 0., 0., 0., 0., 0., 0., 0., 0.],\n",
       "       [0., 0., 0., 0., 0., 0., 0., 0., 0., 0., 0.],\n",
       "       [0., 0., 0., 0., 0., 0., 0., 0., 0., 0., 0.],\n",
       "       [0., 0., 0., 0., 0., 0., 0., 0., 0., 0., 0.],\n",
       "       [0., 0., 0., 1., 0., 0., 0., 0., 0., 0., 0.],\n",
       "       [0., 0., 0., 0., 0., 0., 0., 0., 0., 0., 0.],\n",
       "       [0., 0., 0., 0., 0., 0., 0., 0., 0., 0., 0.],\n",
       "       [0., 0., 0., 0., 0., 0., 1., 0., 0., 0., 0.],\n",
       "       [0., 0., 0., 0., 0., 0., 0., 0., 0., 0., 0.],\n",
       "       [0., 0., 1., 0., 0., 0., 0., 0., 0., 0., 0.],\n",
       "       [0., 0., 0., 0., 0., 0., 0., 0., 0., 0., 0.],\n",
       "       [0., 0., 1., 0., 0., 0., 0., 0., 0., 0., 0.],\n",
       "       [0., 0., 0., 0., 0., 0., 0., 0., 0., 0., 0.],\n",
       "       [0., 0., 0., 0., 0., 0., 0., 0., 0., 0., 0.]])"
      ]
     },
     "execution_count": 10,
     "metadata": {},
     "output_type": "execute_result"
    }
   ],
   "source": [
    "# Quick check that we've created the array we expected to\n",
    "df.Moves_array.iloc[0][:, :, 0]"
   ]
  },
  {
   "cell_type": "code",
   "execution_count": 11,
   "metadata": {},
   "outputs": [
    {
     "data": {
      "text/html": [
       "<div>\n",
       "<style scoped>\n",
       "    .dataframe tbody tr th:only-of-type {\n",
       "        vertical-align: middle;\n",
       "    }\n",
       "\n",
       "    .dataframe tbody tr th {\n",
       "        vertical-align: top;\n",
       "    }\n",
       "\n",
       "    .dataframe thead th {\n",
       "        text-align: right;\n",
       "    }\n",
       "</style>\n",
       "<table border=\"1\" class=\"dataframe\">\n",
       "  <thead>\n",
       "    <tr style=\"text-align: right;\">\n",
       "      <th></th>\n",
       "      <th>Grade</th>\n",
       "      <th>Name</th>\n",
       "      <th>Moves</th>\n",
       "      <th>Repeats</th>\n",
       "      <th>UserGrade</th>\n",
       "      <th>UserRating</th>\n",
       "      <th>Grade_num</th>\n",
       "      <th>UserGrade_num</th>\n",
       "      <th>Moves_array</th>\n",
       "    </tr>\n",
       "  </thead>\n",
       "  <tbody>\n",
       "    <tr>\n",
       "      <th>0</th>\n",
       "      <td>6C</td>\n",
       "      <td>WOODEN CENTERPEICE</td>\n",
       "      <td>[{'Id': 1820187, 'Description': 'C5', 'IsStart...</td>\n",
       "      <td>0</td>\n",
       "      <td>None</td>\n",
       "      <td>0</td>\n",
       "      <td>3</td>\n",
       "      <td>NaN</td>\n",
       "      <td>[[[0.0, 0.0, 0.0], [0.0, 0.0, 0.0], [0.0, 0.0,...</td>\n",
       "    </tr>\n",
       "    <tr>\n",
       "      <th>1</th>\n",
       "      <td>7A+</td>\n",
       "      <td>MUSE IN KOALA</td>\n",
       "      <td>[{'Id': 1820182, 'Description': 'H5', 'IsStart...</td>\n",
       "      <td>1</td>\n",
       "      <td>None</td>\n",
       "      <td>3</td>\n",
       "      <td>6</td>\n",
       "      <td>NaN</td>\n",
       "      <td>[[[0.0, 0.0, 0.0], [0.0, 0.0, 0.0], [0.0, 0.0,...</td>\n",
       "    </tr>\n",
       "    <tr>\n",
       "      <th>2</th>\n",
       "      <td>6B+</td>\n",
       "      <td>ORIGINAL TASTE</td>\n",
       "      <td>[{'Id': 1820175, 'Description': 'I3', 'IsStart...</td>\n",
       "      <td>1</td>\n",
       "      <td>None</td>\n",
       "      <td>3</td>\n",
       "      <td>2</td>\n",
       "      <td>NaN</td>\n",
       "      <td>[[[0.0, 0.0, 0.0], [0.0, 0.0, 0.0], [0.0, 0.0,...</td>\n",
       "    </tr>\n",
       "    <tr>\n",
       "      <th>5</th>\n",
       "      <td>6B+</td>\n",
       "      <td>JASON ADAMS</td>\n",
       "      <td>[{'Id': 1820074, 'Description': 'D5', 'IsStart...</td>\n",
       "      <td>0</td>\n",
       "      <td>None</td>\n",
       "      <td>0</td>\n",
       "      <td>2</td>\n",
       "      <td>NaN</td>\n",
       "      <td>[[[0.0, 0.0, 0.0], [0.0, 0.0, 0.0], [0.0, 0.0,...</td>\n",
       "    </tr>\n",
       "    <tr>\n",
       "      <th>6</th>\n",
       "      <td>6C+</td>\n",
       "      <td>PUNK SNUGGLE</td>\n",
       "      <td>[{'Id': 1820066, 'Description': 'G8', 'IsStart...</td>\n",
       "      <td>0</td>\n",
       "      <td>None</td>\n",
       "      <td>0</td>\n",
       "      <td>4</td>\n",
       "      <td>NaN</td>\n",
       "      <td>[[[0.0, 0.0, 0.0], [0.0, 0.0, 0.0], [0.0, 0.0,...</td>\n",
       "    </tr>\n",
       "  </tbody>\n",
       "</table>\n",
       "</div>"
      ],
      "text/plain": [
       "  Grade                Name  \\\n",
       "0    6C  WOODEN CENTERPEICE   \n",
       "1   7A+       MUSE IN KOALA   \n",
       "2   6B+      ORIGINAL TASTE   \n",
       "5   6B+         JASON ADAMS   \n",
       "6   6C+        PUNK SNUGGLE   \n",
       "\n",
       "                                               Moves  Repeats UserGrade  \\\n",
       "0  [{'Id': 1820187, 'Description': 'C5', 'IsStart...        0      None   \n",
       "1  [{'Id': 1820182, 'Description': 'H5', 'IsStart...        1      None   \n",
       "2  [{'Id': 1820175, 'Description': 'I3', 'IsStart...        1      None   \n",
       "5  [{'Id': 1820074, 'Description': 'D5', 'IsStart...        0      None   \n",
       "6  [{'Id': 1820066, 'Description': 'G8', 'IsStart...        0      None   \n",
       "\n",
       "   UserRating  Grade_num  UserGrade_num  \\\n",
       "0           0          3            NaN   \n",
       "1           3          6            NaN   \n",
       "2           3          2            NaN   \n",
       "5           0          2            NaN   \n",
       "6           0          4            NaN   \n",
       "\n",
       "                                         Moves_array  \n",
       "0  [[[0.0, 0.0, 0.0], [0.0, 0.0, 0.0], [0.0, 0.0,...  \n",
       "1  [[[0.0, 0.0, 0.0], [0.0, 0.0, 0.0], [0.0, 0.0,...  \n",
       "2  [[[0.0, 0.0, 0.0], [0.0, 0.0, 0.0], [0.0, 0.0,...  \n",
       "5  [[[0.0, 0.0, 0.0], [0.0, 0.0, 0.0], [0.0, 0.0,...  \n",
       "6  [[[0.0, 0.0, 0.0], [0.0, 0.0, 0.0], [0.0, 0.0,...  "
      ]
     },
     "execution_count": 11,
     "metadata": {},
     "output_type": "execute_result"
    }
   ],
   "source": [
    "df.head()"
   ]
  },
  {
   "cell_type": "markdown",
   "metadata": {},
   "source": [
    "## Visualising the data\n",
    "\n",
    "Let's see a pictures of what the `Moves_array` looks like.  Orange holds are the normal (middle) holds, green holds are the starting holds and blue holds are the finishing holds."
   ]
  },
  {
   "cell_type": "code",
   "execution_count": 12,
   "metadata": {},
   "outputs": [
    {
     "data": {
      "image/png": "[encoded data removed]",
      "text/plain": [
       "<Figure size 432x288 with 2 Axes>"
      ]
     },
     "metadata": {},
     "output_type": "display_data"
    }
   ],
   "source": [
    "def plot_move(array):\n",
    "    # takes a 3d array of moves and plots which holds are used\n",
    "    with sns.axes_style(\"white\"):\n",
    "        f, axes = plt.subplots(1, 2, gridspec_kw={'width_ratios': [1, 1.15]})\n",
    "        mask = np.ones((18, 11))\n",
    "        mask[np.sum(array, axis=2) != 0] = False\n",
    "        color = np.array([0, 1, -1])\n",
    "        data = np.sum(array*color, axis=2)\n",
    "\n",
    "        cmap = sns.color_palette(n_colors=4)\n",
    "        # The labels A to K\n",
    "        xticklabels = [chr(i) for i in range(65, 65+11)]\n",
    "\n",
    "        sns.heatmap(data, linewidths=0.5, square=True, mask=mask, yticklabels=range(1, 19), xticklabels=xticklabels,\n",
    "                    center=1, cbar=False, ax=axes[0], cmap=cmap, linecolor='lightgrey').invert_yaxis()\n",
    "        img = mpimg.imread('REDLINE.png')\n",
    "        plt.imshow(img, origin='upper')\n",
    "        axes[-1].axis('off')\n",
    "\n",
    "\n",
    "plot_move(df[df.Name == 'REDLINE'].Moves_array.iloc[0])"
   ]
  },
  {
   "cell_type": "markdown",
   "metadata": {},
   "source": [
    "We now visualise some of the data and take a peek at it.  We first have a look at the distribution of grades and see that most of the routes are for the lower grades with very few routes in the 8's. We will take the `Grade`, which is given by each individual setter, as the truth but there is likely to be some noise here.  Something that we will show later on."
   ]
  },
  {
   "cell_type": "code",
   "execution_count": 13,
   "metadata": {},
   "outputs": [
    {
     "data": {
      "image/png": "[encoded data removed]",
      "text/plain": [
       "<Figure size 432x288 with 1 Axes>"
      ]
     },
     "metadata": {},
     "output_type": "display_data"
    }
   ],
   "source": [
    "sns.set(style=\"darkgrid\")\n",
    "bins = range(len(grade_list)+1)\n",
    "sns.distplot(df.Grade_num, bins=bins, kde=False, axlabel=\"Grade\")\n",
    "plt.xticks(bins, grade_list);"
   ]
  },
  {
   "cell_type": "code",
   "execution_count": 14,
   "metadata": {},
   "outputs": [
    {
     "data": {
      "image/png": "[encoded data removed]",
      "text/plain": [
       "<Figure size 1080x576 with 2 Axes>"
      ]
     },
     "metadata": {},
     "output_type": "display_data"
    }
   ],
   "source": [
    "bin_list = [0, grade_dict['7A'], grade_dict['8A'], len(grade_list)]\n",
    "grade_cum_list = [\"6\", \"7\", \"8\"]\n",
    "\n",
    "\n",
    "def plot_dual_dist_hist():\n",
    "    fig, axes = plt.subplots(1, 2, figsize=(15, 8))\n",
    "    sns.distplot(df.Grade_num, bins=bins, kde=False,\n",
    "                 axlabel=\"Grade\", ax=axes[0])\n",
    "    sns.distplot(df.Grade_num, bins=bin_list,\n",
    "                 kde=False, axlabel=\"Grade\", ax=axes[1])\n",
    "    for a in axes:\n",
    "        a.set_xticks([0, grade_dict['7A'], grade_dict['8A'], len(grade_list)])\n",
    "        a.set_xticklabels(grade_cum_list)\n",
    "    return fig, axes\n",
    "\n",
    "\n",
    "plot_dual_dist_hist();"
   ]
  },
  {
   "cell_type": "code",
   "execution_count": 15,
   "metadata": {},
   "outputs": [
    {
     "data": {
      "image/png": "[encoded data removed]",
      "text/plain": [
       "<Figure size 432x288 with 1 Axes>"
      ]
     },
     "metadata": {},
     "output_type": "display_data"
    }
   ],
   "source": [
    "sns.distplot(df.Grade_num, bins=bin_list, kde=False, axlabel=\"Grade\")\n",
    "plt.xticks(bin_list, grade_cum_list)\n",
    "plt.title('Log scale')\n",
    "plt.yscale('log')"
   ]
  },
  {
   "cell_type": "markdown",
   "metadata": {},
   "source": [
    "Now visualise a heatmap of which holds are used for which grades of climbs.  We split them up into below 6C+, 7A-7C+, and 8A and above."
   ]
  },
  {
   "cell_type": "code",
   "execution_count": 16,
   "metadata": {},
   "outputs": [
    {
     "data": {
      "image/png": "[encoded data removed]",
      "text/plain": [
       "<Figure size 1080x432 with 6 Axes>"
      ]
     },
     "metadata": {},
     "output_type": "display_data"
    }
   ],
   "source": [
    "# Create masks to show the different number grades\n",
    "mask_grade_6s = df.Grade_num < grade_dict['7A']\n",
    "mask_grade_7s = (\n",
    "    df.Grade_num > grade_dict['6C+']) & (df.Grade_num < grade_dict['8A'])\n",
    "mask_grade_8s = df.Grade_num > grade_dict['7C+']\n",
    "masks = [mask_grade_6s, mask_grade_7s, mask_grade_8s]\n",
    "\n",
    "# Sum the moves for each number grade\n",
    "cum_moves = np.zeros((3, 18, 11))\n",
    "for i, mask in enumerate(masks):\n",
    "    cum_moves[i] = np.sum(np.sum(df[mask].Moves_array, axis=0), axis=-1)\n",
    "\n",
    "# Plot a heatmap of the holds used\n",
    "fig, axes = plt.subplots(1, 3, figsize=(15, 6))\n",
    "xticklabels = [chr(i) for i in range(65, 65+11)]\n",
    "cmap = sns.cubehelix_palette(\n",
    "    start=2.4, rot=0.2, light=0.99, dark=0.01, hue=1, as_cmap=True)\n",
    "\n",
    "for i, move in enumerate(cum_moves):\n",
    "    # normalise the cumlative move to [0,1]\n",
    "    move_norm = move / np.max(move)\n",
    "    sns.heatmap(move_norm, linewidths=0.5, square=True, yticklabels=range(1, 19),\n",
    "                xticklabels=xticklabels, center=1, cmap=cmap, ax=axes[i],\n",
    "                linecolor='lightgrey').invert_yaxis()\n",
    "    axes[i].set_title(\"Heatmap of Holds Used in Font \" +\n",
    "                      grade_cum_list[i] + \"'s\")"
   ]
  },
  {
   "cell_type": "markdown",
   "metadata": {},
   "source": [
    "As you can see, different holds are favoured by different grades of route, with the exception of some of the finishing holds.  The finishing holds on hard climbing routes can often be very large and easy to hold onto so this is to be expected.  The grade 7's are the most uniform in terms of holds used, although there is a clustering effect in the center.  We would expect this bias since the climber would generally prefer to stay closer to the middle of the board and not fall off the edge.  If this was a subsample of a larger moonboard then we wouldn't see this.\n",
    "There isn't a large set of grade 8's and hence part of the spotted effect might come from the small sample size, however we would also expect to be an actual feature in the data since the harder routes won't use the easier holds.  Further discussion could be had in this area looking into the different holdsets that make up the board, with some holdsets being harder to grip than others."
   ]
  },
  {
   "cell_type": "markdown",
   "metadata": {},
   "source": [
    "## Accuracy of human graders\n",
    "\n",
    "Before we train a CNN (convolution neural network) to classify the difficulty of a given route we investigate the quality of the grading in the data.  We have two grades available to us: the `UserGrade` a crowd sourced grade from climbers who have climbed this route, and the `Grade` which is the grade given to the climb by whoever set the route.  Only a third of the climbs have been graded by other climbers and a fair proportion of the routes have had little to no repeats.  The climbers who set the route are not necessarily more experienced that other users and there is some argument to be made that, for routes than have been graded enough, the `UserGrade` will be the more accurate grade.  However, we expect both grades to approximately agree - be within 1 grade of each other.  Let's see if this is true.  For now we take the `Grade` to be the truth."
   ]
  },
  {
   "cell_type": "code",
   "execution_count": 17,
   "metadata": {},
   "outputs": [
    {
     "name": "stdout",
     "output_type": "stream",
     "text": [
      "Only 33% of routes have been graded by other climbers.\n",
      "Only 63% of routes have only been repeated at more than once by other climbers.\n",
      "Accuracy (exact)            0.954545\n",
      "Accuracy (within 1 grade)   0.971965\n",
      "Accuracy (within 2 grades)  0.992107\n"
     ]
    }
   ],
   "source": [
    "df_user_grade = df.dropna(subset=['UserGrade'])\n",
    "user_grade_percent = df.UserGrade.count() / df.Grade.count() * 100\n",
    "repeat_percent = df.Repeats[df.Repeats > 1].count() / df.Repeats.count() * 100\n",
    "print(f\"Only {user_grade_percent:.0f}% of routes have been graded by other climbers.\")\n",
    "print(f\"Only {repeat_percent:.0f}% of routes have only been repeated at more than once by other climbers.\")\n",
    "\n",
    "acc = np.zeros(3)\n",
    "for i in range(3):\n",
    "    acc[i] = np.sum(np.abs(df_user_grade.Grade_num -\n",
    "                           df_user_grade.UserGrade_num) <= i) / len(df_user_grade.Grade_num)\n",
    "\n",
    "acc_pd = pd.DataFrame(\n",
    "    acc, [\"Accuracy (exact)\", \"Accuracy (within 1 grade)\", \"Accuracy (within 2 grades)\"])\n",
    "print(acc_pd.to_string(header=False))"
   ]
  },
  {
   "cell_type": "markdown",
   "metadata": {},
   "source": [
    "This gives us an idea of the noise in the `Grade` data.  The climbers who gave these climbs the `UserGrade` also climbed the routes.  Our model will only look at the route and so we expect to see worse accuracy than this.  Since climbing grades by their nature are often subject (and it's not uncommon for routes to go up or down a couple of grades) we use the `Accuracy (within 1 grade)` as our metric.  Later we also include how far out we are in our loss function instead of the usual right or wrong - this allows us to take into account that we are classifying on a linear scale and not just to arbitrary labels."
   ]
  },
  {
   "cell_type": "markdown",
   "metadata": {},
   "source": [
    "## Saving the data for training"
   ]
  },
  {
   "cell_type": "markdown",
   "metadata": {},
   "source": [
    "In the [next notebook](CNN.ipynb) we train a convolution neural network to grade the routes from only seeing the moves - the climbers who graded the route also were able to climb them so have a big advantage! Finally we save the data as numpy arrays.  The moves data has the shape `(batch, h, w, hold_type) = (:, h, w, 3)`.  We will be taking stratified samples so that the train, validate and test datasets contain the same distribution of grade 6, 7 and 8 climbs.  The main worry is that there are so little grade 8 climbs that one of the datasets could see a disproportionate amount of them."
   ]
  },
  {
   "cell_type": "code",
   "execution_count": 18,
   "metadata": {},
   "outputs": [],
   "source": [
    "# save the arrays sorted by grade\n",
    "df = df.sort_values(by='Grade_num')\n",
    "\n",
    "moves = np.concatenate(df.Moves_array.values)\n",
    "moves = moves.reshape((-1, 18, 11, 3))\n",
    "# cast grades to np.int32\n",
    "grades = df.Grade_num.values.astype(np.int32)\n",
    "\n",
    "np.savez_compressed('data/data.npz', moves=moves,\n",
    "                    grades=grades, grade_dict=grade_dict)\n",
    "\n",
    "# Also save the cleaned and processed dataset\n",
    "df.to_pickle('data/database_processed.zip')"
   ]
  }
 ],
 "metadata": {
  "kernelspec": {
   "display_name": "Python 3",
   "language": "python",
   "name": "python3"
  },
  "language_info": {
   "codemirror_mode": {
    "name": "ipython",
    "version": 3
   },
   "file_extension": ".py",
   "mimetype": "text/x-python",
   "name": "python",
   "nbconvert_exporter": "python",
   "pygments_lexer": "ipython3",
   "version": "3.6.7"
  },
  "notify_time": "5"
 },
 "nbformat": 4,
 "nbformat_minor": 2
}
